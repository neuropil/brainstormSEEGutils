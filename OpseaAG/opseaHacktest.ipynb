{
 "cells": [
  {
   "cell_type": "code",
   "execution_count": null,
   "metadata": {},
   "outputs": [],
   "source": []
  },
  {
   "cell_type": "code",
   "execution_count": 1,
   "metadata": {},
   "outputs": [],
   "source": [
    "import os\n",
    "import nibabel as nib\n"
   ]
  },
  {
   "cell_type": "code",
   "execution_count": 2,
   "metadata": {},
   "outputs": [],
   "source": [
    "os.environ['FREESURFER_HOME'] = 'C:\\\\Users\\\\Admin\\\\Documents\\\\FREESURFER'\n",
    "os.environ['HOME'] = 'C:\\\\Users\\\\Admin\\\\Documents\\\\MATLAB\\\\OPSCEA-main'"
   ]
  },
  {
   "cell_type": "code",
   "execution_count": 7,
   "metadata": {},
   "outputs": [
    {
     "name": "stdout",
     "output_type": "stream",
     "text": [
      "Making lh mesh\n",
      "Making rh mesh\n",
      "::: Tesselating freesurfer subcortical segmentations from aseg using aseg2srf... :::\n",
      "C:\\Users\\Admin\\Documents\\Github\\brainstormSEEGutils\\OpseaAG\\aseg2srf.sh\n",
      "::: Converting all ascii segmentations to matlab tri-vert :::\n"
     ]
    },
    {
     "ename": "FileNotFoundError",
     "evalue": "[Errno 2] No such file or directory: 'C:\\\\Users\\\\Admin\\\\Documents\\\\FREESURFER\\\\subjects\\\\MW12\\\\ascii\\\\aseg_058.asc'",
     "output_type": "error",
     "traceback": [
      "\u001b[1;31m---------------------------------------------------------------------------\u001b[0m",
      "\u001b[1;31mFileNotFoundError\u001b[0m                         Traceback (most recent call last)",
      "File \u001b[1;32m~\\Documents\\Github\\brainstormSEEGutils\\OpseaAG\\create_opscea_subj.py:467\u001b[0m\n\u001b[0;32m    465\u001b[0m \u001b[39mif\u001b[39;00m \u001b[39m__name__\u001b[39m\u001b[39m==\u001b[39m\u001b[39m\"\u001b[39m\u001b[39m__main__\u001b[39m\u001b[39m\"\u001b[39m:\n\u001b[0;32m    466\u001b[0m     om \u001b[39m=\u001b[39m BrainstormOpsceaMaker()\n\u001b[1;32m--> 467\u001b[0m     om\u001b[39m.\u001b[39;49mdriver()\n",
      "File \u001b[1;32m~\\Documents\\Github\\brainstormSEEGutils\\OpseaAG\\create_opscea_subj.py:62\u001b[0m, in \u001b[0;36mOpsceaMaker.driver\u001b[1;34m(self)\u001b[0m\n\u001b[0;32m     61\u001b[0m \u001b[39mdef\u001b[39;00m \u001b[39mdriver\u001b[39m(\u001b[39mself\u001b[39m):\n\u001b[1;32m---> 62\u001b[0m     \u001b[39mself\u001b[39;49m\u001b[39m.\u001b[39;49mdo_imaging_dirs()\n\u001b[0;32m     63\u001b[0m     \u001b[39mself\u001b[39m\u001b[39m.\u001b[39mdo_seizure_dirs()\n\u001b[0;32m     64\u001b[0m     \u001b[39mprint\u001b[39m(\u001b[39m\"\u001b[39m\u001b[39mDone.\u001b[39m\u001b[39m\"\u001b[39m)\n",
      "File \u001b[1;32m~\\Documents\\Github\\brainstormSEEGutils\\OpseaAG\\create_opscea_subj.py:85\u001b[0m, in \u001b[0;36mOpsceaMaker.do_imaging_dirs\u001b[1;34m(self)\u001b[0m\n\u001b[0;32m     83\u001b[0m \u001b[39mself\u001b[39m\u001b[39m.\u001b[39mpatient\u001b[39m.\u001b[39mconvert_fsmesh2mlab()\n\u001b[0;32m     84\u001b[0m \u001b[39mif\u001b[39;00m \u001b[39mself\u001b[39m\u001b[39m.\u001b[39mdo_subcort:\n\u001b[1;32m---> 85\u001b[0m     \u001b[39mself\u001b[39;49m\u001b[39m.\u001b[39;49mpatient\u001b[39m.\u001b[39;49mget_subcort()\n\u001b[0;32m     87\u001b[0m \u001b[39mfor\u001b[39;00m t \u001b[39min\u001b[39;00m targets:\n\u001b[0;32m     88\u001b[0m     \u001b[39mif\u001b[39;00m \u001b[39mnot\u001b[39;00m os\u001b[39m.\u001b[39mpath\u001b[39m.\u001b[39misdir(os\u001b[39m.\u001b[39mpath\u001b[39m.\u001b[39mjoin(\u001b[39mself\u001b[39m\u001b[39m.\u001b[39mopscea_subjdir, t)):\n",
      "File \u001b[1;32m~\\Documents\\Github\\brainstormSEEGutils\\OpseaAG\\AG_img_pipe.py:255\u001b[0m, in \u001b[0;36mfreeCoG.get_subcort\u001b[1;34m(self)\u001b[0m\n\u001b[0;32m    253\u001b[0m subcort \u001b[39m=\u001b[39m os\u001b[39m.\u001b[39mpath\u001b[39m.\u001b[39mjoin(subjAscii_dir, subcort_list[i])\n\u001b[0;32m    254\u001b[0m nuc \u001b[39m=\u001b[39m os\u001b[39m.\u001b[39mpath\u001b[39m.\u001b[39mjoin(subcort_dir, nuc_list[i])\n\u001b[1;32m--> 255\u001b[0m \u001b[39mself\u001b[39;49m\u001b[39m.\u001b[39;49msubcortFs2mlab(subcort, nuc)\n",
      "File \u001b[1;32m~\\Documents\\Github\\brainstormSEEGutils\\OpseaAG\\AG_img_pipe.py:276\u001b[0m, in \u001b[0;36mfreeCoG.subcortFs2mlab\u001b[1;34m(self, subcort, nuc)\u001b[0m\n\u001b[0;32m    273\u001b[0m subcort_ascii \u001b[39m=\u001b[39m subcort\n\u001b[0;32m    275\u001b[0m \u001b[39m# clean up ascii file and extract matrix dimensions from header\u001b[39;00m\n\u001b[1;32m--> 276\u001b[0m subcort \u001b[39m=\u001b[39m \u001b[39mopen\u001b[39;49m(subcort_ascii, \u001b[39m'\u001b[39;49m\u001b[39mr\u001b[39;49m\u001b[39m'\u001b[39;49m)\n\u001b[0;32m    277\u001b[0m subcort_mat \u001b[39m=\u001b[39m subcort\u001b[39m.\u001b[39mreadlines()\n\u001b[0;32m    278\u001b[0m subcort\u001b[39m.\u001b[39mclose()\n",
      "\u001b[1;31mFileNotFoundError\u001b[0m: [Errno 2] No such file or directory: 'C:\\\\Users\\\\Admin\\\\Documents\\\\FREESURFER\\\\subjects\\\\MW12\\\\ascii\\\\aseg_058.asc'"
     ]
    }
   ],
   "source": [
    "# run a python file in jupyter notebook\n",
    "%run create_opscea_subj.py MW12"
   ]
  },
  {
   "cell_type": "code",
   "execution_count": 20,
   "metadata": {},
   "outputs": [],
   "source": []
  },
  {
   "cell_type": "code",
   "execution_count": 19,
   "metadata": {},
   "outputs": [
    {
     "data": {
      "text/plain": [
       "'C:\\\\Users\\\\Admin\\\\Documents\\\\FREESURFER\\\\subjects'"
      ]
     },
     "execution_count": 19,
     "metadata": {},
     "output_type": "execute_result"
    }
   ],
   "source": []
  }
 ],
 "metadata": {
  "kernelspec": {
   "display_name": "Python 3",
   "language": "python",
   "name": "python3"
  },
  "language_info": {
   "codemirror_mode": {
    "name": "ipython",
    "version": 3
   },
   "file_extension": ".py",
   "mimetype": "text/x-python",
   "name": "python",
   "nbconvert_exporter": "python",
   "pygments_lexer": "ipython3",
   "version": "3.8.12"
  },
  "orig_nbformat": 4
 },
 "nbformat": 4,
 "nbformat_minor": 2
}
